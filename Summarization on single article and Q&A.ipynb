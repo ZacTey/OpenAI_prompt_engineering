{
 "cells": [
  {
   "cell_type": "markdown",
   "id": "4d4fcf0f",
   "metadata": {},
   "source": [
    "# Importing Libraries"
   ]
  },
  {
   "cell_type": "code",
   "execution_count": null,
   "id": "ef9e6e40",
   "metadata": {},
   "outputs": [],
   "source": [
    "#!pip install -q openai"
   ]
  },
  {
   "cell_type": "code",
   "execution_count": 1,
   "id": "2f72b850",
   "metadata": {},
   "outputs": [],
   "source": [
    "import openai\n",
    "openai.api_key = 'sk-N5TKwtx8iTchKVV2Bm5JT3Blb*================*' #Masked"
   ]
  },
  {
   "cell_type": "markdown",
   "id": "c6540488",
   "metadata": {},
   "source": [
    "# Defining the article"
   ]
  },
  {
   "cell_type": "code",
   "execution_count": 2,
   "id": "b53ff403",
   "metadata": {},
   "outputs": [],
   "source": [
    "notes = \"\"\"\n",
    "Admission Date:  [**2139-3-10**]       Discharge Date:\n",
    "\n",
    "Date of Birth:   [**2139-3-10**]       Sex:  M\n",
    "\n",
    "Service:  NEONATOLOGY\n",
    "\n",
    "This is an interim dictation covering the dates of [**2139-3-10**]\n",
    "through [**2139-3-18**].\n",
    "\n",
    "HISTORY OF THE PRESENT ILLNESS:  The patient is a 2,240 gram\n",
    "male infant born on [**2139-3-10**] at 33 1/7 weeks gestational age\n",
    "to a 35-year-old G2, P1 to 2 mother.  Past obstetrical\n",
    "history is notable for delivery of a 33 week gestational age\n",
    "infant with neonatal alloimmune thrombocytopenia that was\n",
    "treated with a single dose of IV Ig.  The infant was\n",
    "discharged home at three weeks of age.  Prenatal screens were\n",
    "A negative, antibody negative, hepatitis B surface antigen\n",
    "negative, RPR nonreactive, rubella immune, GBS unknown.\n",
    "Current pregnancy with an EDC of [**2139-4-27**] for an estimated\n",
    "gestational age of 33 1/7 weeks.  Pregnancy was complicated\n",
    "by aseptic meningitis at 25 weeks.  Due to history of\n",
    "neonatal alloimmune thrombocytopenia, the mother received\n",
    "biweekly IV Ig infusions.\n",
    "\n",
    "She presented on the day of delivery with spontaneous onset\n",
    "of preterm labor, delivered by cesarean section due to risk\n",
    "for thrombocytopenia in the infant and subsequent hemorrhage\n",
    "risk.  Rupture of membranes 13 hours prior to delivery with\n",
    "clear amniotic fluids.  Maternal intrapartum fever to 99.3\n",
    "degrees without evidence of chorioamnionitis.  At delivery,\n",
    "the infant was active, was bulb suctioned, dried, and given\n",
    "blow-by 02.  Apgar scores were 8 at one minute and 9 at five\n",
    "minutes.  The infant was transferred to the NICU for further\n",
    "evaluation.\n",
    "\n",
    "PHYSICAL EXAMINATION ON ADMISSION:  General:  The patient was\n",
    "a well-appearing infant, birth weight 2,240 grams, head\n",
    "circumference 31 cm, length 45 cm.  Heart rate 180,\n",
    "respiratory rate 58, temperature 98.4, blood pressure 57/34\n",
    "with a mean of 49.  The 02 saturation was 96% in room air.\n",
    "HEENT:  The anterior fontanelle was soft and flat,\n",
    "nondysmorphic facies, palate intact.  No nasal flaring.  The\n",
    "neck and mouth were normal.  Chest:  No retractions.  Good\n",
    "breath sounds bilaterally, no crackles.  Cardiovascular:\n",
    "Regular rate and rhythm, normal S1, S2, no murmur, well\n",
    "perfused.  Normal femoral pulses.  Abdomen:  Soft,\n",
    "nondistended, no organomegaly, no masses.  Bowel sounds\n",
    "active.  There was a three vessel umbilical cord.  GI:  Anus\n",
    "patent.  GU:  Normal male genitalia.  Testes descended\n",
    "bilaterally.  Neurologic:  Active, responsive to stimuli,\n",
    "tone normal and symmetric, moving all extremities\n",
    "symmetrically.  Positive root, gag, and suck reflexes.\n",
    "Positive grasp, Moro symmetric.  Skin:  Unremarkable.\n",
    "Musculoskeletal:  Normal.  Spine, hips, and clavicles normal.\n",
    "Hematoma of the left anterior lateral thigh at the vitamin K\n",
    "injection site.\n",
    "\n",
    "HOSPITAL COURSE:  1.  HEMATOLOGY:  Initial CBC with a crit of\n",
    "35 and a platelet count of 40.  Platelets have dropped to 24\n",
    "within several hours of birth.  The patient was transfused\n",
    "with platelets and subsequent platelet count to 95,000.  The\n",
    "patient was given IV Ig 1.5 grams q.d. times three days\n",
    "total.  Platelet count declined on day number two from\n",
    "295,000 post transfusion to 99 and on day of life number\n",
    "three had decreased to as low as 64. The platelet count\n",
    "subsequently improved spontaneously.  The last platelet count\n",
    "on day of life number seven was 100.  The patient was\n",
    "slightly anemic at birth with a crit of 35.  Hematocrit did\n",
    "stabilize and last crit on day of life number six was 30.9.\n",
    "The baby's blood type was A negative, Coombs' positive.\n",
    "\n",
    "2.  CARDIOVASCULAR:  The patient was cardiovascularly stable\n",
    "throughout admission with normal blood pressures an no\n",
    "murmurs.\n",
    "\n",
    "3.  RESPIRATORY:  The patient was breathing comfortably in\n",
    "room air throughout admission.  He had a few episodes of\n",
    "apnea and bradycardia of prematurity.  Was not loaded on\n",
    "caffeine.  At the time of dictation, the patient was two days\n",
    "spell-free.\n",
    "\n",
    "4.  FLUIDS, ELECTROLYTES, AND NUTRITION:  Initially n.p.o.\n",
    "and on IV fluids.  Feeds were initiated on day of life number\n",
    "one and were advanced without difficulty.  Reached full p.o.\n",
    "feeds on day of life number five.  Calories subsequently\n",
    "advanced to 24 calories per ounce.  At the time of this\n",
    "dictation, the patient was at 150 cc per kilogram per day of\n",
    "breast milk 24 or PE24, taking minimal amounts p.o. and\n",
    "predominantly on gavage feeds on Fer-In-[**Male First Name (un) **] at 2 mg per\n",
    "kilogram per day given anemia.  Electrolytes were monitored\n",
    "and remained within normal limits.  The glucose was within\n",
    "normal limits.\n",
    "\n",
    "5.  GASTROINTESTINAL:  The patient was started on\n",
    "phototherapy on day of life number zero given Coombs'\n",
    "positive status, bilirubin 6.2/0.3 on day of life number two.\n",
    "Phototherapy was discontinued on day of life number three for\n",
    "a bilirubin of 2.5/0.1.  Bilirubin level was subsequently\n",
    "monitored and gradually increasing on day of life number\n",
    "seven.  Bilirubin up to 8.5/0.3; however, at this time, the\n",
    "patient was on full enteral feeds and stooling well.  Due for\n",
    "follow-up bilirubin on [**2139-3-20**].\n",
    "\n",
    "6.  INFECTIOUS DISEASE:  CBC and blood culture sent on\n",
    "admission.  White count of 8.5 with 14 polys, and 5 bands.\n",
    "Started on ampicillin and gentamicin.  Blood cultures with no\n",
    "growth at 48 hours and antibiotics were discontinued.  No\n",
    "further ID issues.\n",
    "\n",
    "7.  NEUROLOGY:  Head ultrasound on day of life number one\n",
    "secondary to thrombocytopenia was normal with no evidence of\n",
    "intraventricular hemorrhage.\n",
    "\n",
    "8.  ROUTINE HEALTH CARE MAINTENANCE:  The patient's\n",
    "pediatrician, Dr. [**Last Name (STitle) **], in [**Location (un) 3307**].  The patient will\n",
    "need a hearing screen prior to discharge home.  The patient\n",
    "has not yet received any immunizations.  Will require car\n",
    "seat test prior to discharge home.  Newborn state screen sent\n",
    "on day of life number three and results pending.\n",
    "\n",
    "CONDITION AT TIME OF DICTATION:  Stable.\n",
    "\n",
    "DISCHARGE MEDICATIONS:\n",
    "1.  Fer-In-[**Male First Name (un) **] 2 mg per kilogram per day.\n",
    "2.  Feeds 150 cc per kilogram per day of breast milk 24 or\n",
    "PE24.\n",
    "\n",
    "DISCHARGE DIAGNOSIS:\n",
    "1.  Prematurity at 33 weeks gestational age.\n",
    "2.  Neonatal alloimmune thrombocytopenia.\n",
    "3.  Anemia.\n",
    "4.  Hyperbilirubinemia.\n",
    "5.  Feeding immaturity.\n",
    "6.  Status post rule out sepsis.\n",
    "\n",
    "\n",
    "\n",
    "\n",
    "                            [**Name6 (MD) **] [**Name8 (MD) 38353**], M.D.  [**MD Number(1) 38354**]\n",
    "\n",
    "Dictated By:[**Last Name (STitle) 54850**]\n",
    "MEDQUIST36\n",
    "\n",
    "D:  [**2139-3-21**]  10:02\n",
    "T:  [**2139-3-21**]  11:23\n",
    "JOB#:  [**Job Number 54851**]\n",
    "\"\"\""
   ]
  },
  {
   "cell_type": "markdown",
   "id": "3bee1a5f",
   "metadata": {},
   "source": [
    "# Asking ChatGPT for a summarization"
   ]
  },
  {
   "cell_type": "code",
   "execution_count": 3,
   "id": "6b57f57e",
   "metadata": {},
   "outputs": [
    {
     "name": "stdout",
     "output_type": "stream",
     "text": [
      "A 2,240 gram male infant was born at 33 1/7 weeks gestational age to a mother with a history of neonatal alloimmune thrombocytopenia. The infant had a platelet count of 40 at birth, which dropped to 24 and required transfusion and IV Ig treatment. The patient was also slightly anemic and had hyperbilirubinemia. Feeding was initiated on day one and advanced without difficulty. The patient had a few episodes of apnea and bradycardia of prematurity but was stable throughout admission. The patient's pediatrician will need to perform a hearing screen and car seat test prior to discharge home. The patient was stable at the time of dictation.\n"
     ]
    }
   ],
   "source": [
    "prompt = f\"\"\"summarize the following document\n",
    "        \n",
    "Context:{notes}\n",
    "\"\"\"\n",
    "\n",
    "try:\n",
    "    # Create a completions using the question and context\n",
    "    response = openai.ChatCompletion.create(\n",
    "                    model=\"gpt-3.5-turbo\",\n",
    "        messages=[{\"role\": \"user\", \"content\": prompt}],\n",
    "        temperature=0\n",
    "    )\n",
    "    output = str(response['choices'][0][\"message\"][\"content\"])\n",
    "except Exception as e:\n",
    "    print(e)\n",
    "    output = \"Excpetion raised\"\n",
    "print(output)"
   ]
  },
  {
   "cell_type": "markdown",
   "id": "6afbdbd5",
   "metadata": {},
   "source": [
    "## Q&A on the previous summary generated by ChatGPT"
   ]
  },
  {
   "cell_type": "code",
   "execution_count": 5,
   "id": "a6c049cd",
   "metadata": {},
   "outputs": [
    {
     "name": "stdout",
     "output_type": "stream",
     "text": [
      "The platelet count of the baby initially dropped to 24 and was subsequently transfused with platelets, which increased the count to 95,000. However, the platelet count declined on day two and reached as low as 64, but subsequently improved spontaneously. The last platelet count on day seven was 100.\n"
     ]
    }
   ],
   "source": [
    "prompt = f\"\"\"Answer the question as truthfully as possible using the provided text, and if the answer is not contained within the text below, say \"I don't know\"\n",
    "\n",
    "Context:{notes}\n",
    "\n",
    "Q: What is the platelet count of baby?\n",
    "A:\"\"\"\n",
    "\n",
    "try:\n",
    "    # Create a completions using the question and context\n",
    "    response = openai.ChatCompletion.create(\n",
    "                    model=\"gpt-3.5-turbo\",\n",
    "        messages=[{\"role\": \"user\", \"content\": prompt}],\n",
    "        temperature=0\n",
    "    )\n",
    "    output = str(response['choices'][0][\"message\"][\"content\"])\n",
    "except Exception as e:\n",
    "    print(e)\n",
    "    output = \"Excpetion raised\"\n",
    "print(output)"
   ]
  },
  {
   "cell_type": "code",
   "execution_count": 6,
   "id": "ae00cddc",
   "metadata": {},
   "outputs": [
    {
     "name": "stdout",
     "output_type": "stream",
     "text": [
      "I don't know.\n"
     ]
    }
   ],
   "source": [
    "prompt = f\"\"\"Answer the question as truthfully as possible using the provided text, and if the answer is not contained within the text below, say \"I don't know\"\n",
    "\n",
    "Context:{notes}\n",
    "\n",
    "Q: What the baby talked about with his mother after being born?\n",
    "A:\"\"\"\n",
    "\n",
    "try:\n",
    "    # Create a completions using the question and context\n",
    "    response = openai.ChatCompletion.create(\n",
    "                    model=\"gpt-3.5-turbo\",\n",
    "        messages=[{\"role\": \"user\", \"content\": prompt}],\n",
    "        temperature=0\n",
    "    )\n",
    "    output = str(response['choices'][0][\"message\"][\"content\"])\n",
    "except Exception as e:\n",
    "    print(e)\n",
    "    output = \"Excpetion raised\"\n",
    "print(output)"
   ]
  }
 ],
 "metadata": {
  "kernelspec": {
   "display_name": "Python 3 (ipykernel)",
   "language": "python",
   "name": "python3"
  },
  "language_info": {
   "codemirror_mode": {
    "name": "ipython",
    "version": 3
   },
   "file_extension": ".py",
   "mimetype": "text/x-python",
   "name": "python",
   "nbconvert_exporter": "python",
   "pygments_lexer": "ipython3",
   "version": "3.10.0"
  },
  "toc": {
   "base_numbering": 1,
   "nav_menu": {},
   "number_sections": true,
   "sideBar": true,
   "skip_h1_title": false,
   "title_cell": "Table of Contents",
   "title_sidebar": "Contents",
   "toc_cell": false,
   "toc_position": {},
   "toc_section_display": true,
   "toc_window_display": true
  }
 },
 "nbformat": 4,
 "nbformat_minor": 5
}
